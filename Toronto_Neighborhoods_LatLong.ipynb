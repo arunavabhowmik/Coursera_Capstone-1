{
 "cells": [
  {
   "cell_type": "markdown",
   "metadata": {},
   "source": [
    "# Toronto Neighbourhoods - geocodes\n",
    "#### This is part of the Course <u>*Applied Data Science Capstone*</u> on Coursera, to complete the Specialization <u>*IBM Data Science Professional Certificate*</u>\n",
    "\n",
    "This exercise is to get the geocodes from the Toronto Neighbourhoods we got in the first [notebook](https://github.com/rareal/Coursera_Capstone/blob/master/Toronto_Neighborhoods.ipynb). We're getting the latitude and longitude from the postcodes in the dataframe. \n",
    "The instructions suggest to use the `geocoder` package, but that is not working. After looking around I found https://my.locationiq.com, got a developer token, 10000 free calls a day. **LocationIQ** [api docs](https://locationiq.com/docs#forward-geocoding).\n",
    "\n",
    "\n",
    "[Other googlemaps alternatives](http://geoawesomeness.com/google-maps-api-alternatives-best-cheap-affordable/).\n",
    "\n",
    "---------------\n",
    "Importing dependencies:"
   ]
  },
  {
   "cell_type": "code",
   "execution_count": 72,
   "metadata": {},
   "outputs": [],
   "source": [
    "import requests\n",
    "import pandas as pd\n",
    "import numpy as np\n",
    "import time"
   ]
  },
  {
   "cell_type": "code",
   "execution_count": 55,
   "metadata": {},
   "outputs": [],
   "source": [
    "apikey = '3519d86646e89c'"
   ]
  },
  {
   "cell_type": "markdown",
   "metadata": {},
   "source": [
    "LocationIQ search api call example:"
   ]
  },
  {
   "cell_type": "code",
   "execution_count": 56,
   "metadata": {},
   "outputs": [],
   "source": [
    "url = \"https://us1.locationiq.com/v1/search.php\"\n",
    "data = {\n",
    "    'key': apikey,\n",
    "    'q': 'Empire State Building',\n",
    "    'format': 'json'\n",
    "}\n",
    "response = requests.get(url, params=data)"
   ]
  },
  {
   "cell_type": "code",
   "execution_count": 57,
   "metadata": {},
   "outputs": [
    {
     "name": "stdout",
     "output_type": "stream",
     "text": [
      "Empire State Building, 350, 5th Avenue, Korea Town, Midtown South, Manhattan, Manhattan Community Board 5, New York County, New York City, New York, 10001, USA\n",
      "latitude:  40.7484284\n",
      "longitude:  -73.9856546198733\n"
     ]
    }
   ],
   "source": [
    "print(response.json()[0]['display_name'])\n",
    "print('latitude: ',response.json()[0]['lat'])\n",
    "print('longitude: ',response.json()[0]['lon'])"
   ]
  },
  {
   "cell_type": "markdown",
   "metadata": {},
   "source": [
    "got the `Toronto_Neighbourhoods.csv` from the first notebook [Toronto_Neighborhoods.ipynb](https://github.com/rareal/Coursera_Capstone/blob/master/Toronto_Neighborhoods.ipynb)"
   ]
  },
  {
   "cell_type": "code",
   "execution_count": 30,
   "metadata": {},
   "outputs": [],
   "source": [
    "Toronto_neigh = pd.read_csv('Toronto_Neighbourhoods.csv')"
   ]
  },
  {
   "cell_type": "code",
   "execution_count": 75,
   "metadata": {},
   "outputs": [],
   "source": [
    "nrow = len(Toronto_neigh.Postcode)\n",
    "lat = pd.Series(['None']*nrow)\n",
    "lon = pd.Series(['None']*nrow)"
   ]
  },
  {
   "cell_type": "markdown",
   "metadata": {},
   "source": [
    "The API limit is 1 request per second, I'm doing 2s intervals between calls to be sure."
   ]
  },
  {
   "cell_type": "code",
   "execution_count": 73,
   "metadata": {},
   "outputs": [],
   "source": [
    "for i in range(nrow):\n",
    "    print('iteration: ',i)\n",
    "    PC = Toronto_neigh.Postcode[i]\n",
    "    data = {'key': apikey,'q':'{}, Toronto, Ontario'.format(PC),'format': 'json'}\n",
    "    while(lat[i] is 'None'):\n",
    "    response = requests.get(url, params=data)\n",
    "    lat[i] = response.json()[0]['lat']\n",
    "    lon[i] = response.json()[0]['lon']\n",
    "    time.sleep(2)\n"
   ]
  },
  {
   "cell_type": "code",
   "execution_count": 74,
   "metadata": {},
   "outputs": [
    {
     "data": {
      "text/plain": [
       "array([43.754227 , 43.724686 , 43.6636637, 43.721307 , 43.653963 ,\n",
       "       43.666609 , 43.653963 , 43.743931 , 43.707087 , 43.657181 ,\n",
       "       43.707651 , 43.650381 , 43.653963 , 43.7328216, 43.690678 ,\n",
       "       43.651386 , 43.68928  , 43.6449033, 43.766199 , 43.676218 ,\n",
       "       43.6449033, 43.687783 , 43.6449033, 43.71126  , 43.657246 ,\n",
       "       43.668236 , 43.76807  , 43.801989 , 43.7561987, 43.704224 ,\n",
       "       43.649692 , 43.665276 , 43.744488 , 43.6449033, 43.6449033,\n",
       "       43.686567 , 43.6449033, 43.648806 , 43.731742 , 43.774102 ,\n",
       "       43.738576 , 43.68009  ,  0.       , 43.6449033, 43.712173 ,\n",
       "       43.757762 , 43.727586 , 43.67089  , 43.64877  , 43.713895 ,\n",
       "       43.762474 , 43.723138 , 43.7635305, 43.728584 , 43.657016 ,\n",
       "       43.732726 , 43.697054 , 43.740315 , 43.704081 , 43.6449033,\n",
       "       43.758752 , 43.729413 , 43.710815 , 43.6449033, 43.709229 ,\n",
       "       43.7596   , 43.752068 , 43.713691 , 43.69855  , 43.6449033,\n",
       "       43.693021 , 43.751725 , 43.779338 , 43.71275  , 43.671561 ,\n",
       "       43.646882 ,  0.       , 43.6449033, 43.793231 , 43.703263 ,\n",
       "       43.663176 , 43.6449033, 43.780943 , 43.688993 , 43.65407  ,\n",
       "       43.817087 , 43.686359 , 43.641761 , 43.602637 , 43.741433 ,\n",
       "       43.6449033, 43.680156 , 43.64877  , 43.602525 , 43.704284 ,\n",
       "       43.829059 , 43.6680266, 43.64877  , 43.654509 , 43.666493 ,\n",
       "       43.64877  , 43.632597 , 43.626816 ])"
      ]
     },
     "execution_count": 74,
     "metadata": {},
     "output_type": "execute_result"
    }
   ],
   "source": [
    "lat"
   ]
  },
  {
   "cell_type": "code",
   "execution_count": 66,
   "metadata": {},
   "outputs": [
    {
     "data": {
      "text/plain": [
       "5    M9A\n",
       "6    M1B\n",
       "Name: Postcode, dtype: object"
      ]
     },
     "execution_count": 66,
     "metadata": {},
     "output_type": "execute_result"
    }
   ],
   "source": [
    "Toronto_neigh.Postcode[5:7]"
   ]
  },
  {
   "cell_type": "code",
   "execution_count": 67,
   "metadata": {},
   "outputs": [],
   "source": [
    "PC='M9A'\n",
    "data = {'key': apikey,'q':'{}, Toronto, Ontario'.format(PC),'format': 'json'}\n",
    "response = requests.get(url, params=data)"
   ]
  },
  {
   "cell_type": "code",
   "execution_count": 71,
   "metadata": {},
   "outputs": [
    {
     "data": {
      "text/plain": [
       "'43.666609'"
      ]
     },
     "execution_count": 71,
     "metadata": {},
     "output_type": "execute_result"
    }
   ],
   "source": [
    "response.json()[0]['lat']"
   ]
  },
  {
   "cell_type": "code",
   "execution_count": null,
   "metadata": {},
   "outputs": [],
   "source": [
    "\n"
   ]
  }
 ],
 "metadata": {
  "kernelspec": {
   "display_name": "Python 3",
   "language": "python",
   "name": "python3"
  },
  "language_info": {
   "codemirror_mode": {
    "name": "ipython",
    "version": 3
   },
   "file_extension": ".py",
   "mimetype": "text/x-python",
   "name": "python",
   "nbconvert_exporter": "python",
   "pygments_lexer": "ipython3",
   "version": "3.6.3"
  }
 },
 "nbformat": 4,
 "nbformat_minor": 2
}
