{
 "cells": [
  {
   "cell_type": "markdown",
   "metadata": {},
   "source": [
    "# Toronto Neighbourhoods - geocodes\n",
    "#### This is part of the Course <u>*Applied Data Science Capstone*</u> on Coursera, to complete the Specialization <u>*IBM Data Science Professional Certificate*</u>\n",
    "\n",
    "This exercise is to get the geocodes from the Toronto Neighbourhoods we got in the first [notebook](https://github.com/rareal/Coursera_Capstone/blob/master/Toronto_Neighborhoods.ipynb). We're getting the latitude and longitude from the postcodes in the dataframe. \n",
    "The instructions suggest to use the `geocoder` package, but that is not working. After looking around I found https://my.locationiq.com, got a developer token, 10000 free calls a day. **LocationIQ** [api docs](https://locationiq.com/docs#forward-geocoding).\n",
    "\n",
    "\n",
    "[Other googlemaps alternatives](http://geoawesomeness.com/google-maps-api-alternatives-best-cheap-affordable/).\n",
    "\n",
    "---------------\n",
    "Importing dependencies:"
   ]
  },
  {
   "cell_type": "code",
   "execution_count": 1,
   "metadata": {},
   "outputs": [],
   "source": [
    "import requests\n",
    "import pandas as pd\n",
    "import numpy as np\n",
    "import time"
   ]
  },
  {
   "cell_type": "code",
   "execution_count": 2,
   "metadata": {},
   "outputs": [],
   "source": [
    "apikey = '3519d86646e89c'"
   ]
  },
  {
   "cell_type": "markdown",
   "metadata": {},
   "source": [
    "LocationIQ search api call example:"
   ]
  },
  {
   "cell_type": "code",
   "execution_count": 56,
   "metadata": {},
   "outputs": [],
   "source": [
    "# Search / Forward Geocoding url\n",
    "search_url = \"https://us1.locationiq.com/v1/search.php\"\n",
    "data = {\n",
    "    'key': apikey,\n",
    "    'q': 'Empire State Building',\n",
    "    'format': 'json'\n",
    "}\n",
    "response = requests.get(url, params=data)"
   ]
  },
  {
   "cell_type": "code",
   "execution_count": 4,
   "metadata": {},
   "outputs": [
    {
     "name": "stdout",
     "output_type": "stream",
     "text": [
      "Empire State Building, 350, 5th Avenue, Korea Town, Midtown South, Manhattan, Manhattan Community Board 5, New York County, New York City, New York, 10001, USA\n",
      "latitude:  40.7484284\n",
      "longitude:  -73.9856546198733\n"
     ]
    }
   ],
   "source": [
    "print(response.json()[0]['display_name'])\n",
    "print('latitude: ',response.json()[0]['lat'])\n",
    "print('longitude: ',response.json()[0]['lon'])"
   ]
  },
  {
   "cell_type": "markdown",
   "metadata": {},
   "source": [
    "The API can search for postalcode directly, which produces more robust results. \n",
    "\n",
    "Example: "
   ]
  },
  {
   "cell_type": "code",
   "execution_count": 57,
   "metadata": {},
   "outputs": [
    {
     "data": {
      "text/plain": [
       "[{'place_id': '75636',\n",
       "  'licence': '© LocationIQ.com CC BY 4.0, Data © OpenStreetMap contributors, ODbL 1.0',\n",
       "  'boundingbox': ['43.6469', '43.6469', '-79.3823', '-79.3823'],\n",
       "  'lat': '43.6469',\n",
       "  'lon': '-79.3823',\n",
       "  'display_name': 'Downtown Toronto (Toronto Dominion Centre / Design Exchange), Toronto, Ontario, M5K, Canada',\n",
       "  'class': 'place',\n",
       "  'type': 'postcode',\n",
       "  'importance': 0.1}]"
      ]
     },
     "execution_count": 57,
     "metadata": {},
     "output_type": "execute_result"
    }
   ],
   "source": [
    "data = {'key': apikey,'postalcode':'M5K','countrycode':'CA','format': 'json'}\n",
    "response = requests.get(search_url, params=data)\n",
    "response.json()"
   ]
  },
  {
   "cell_type": "markdown",
   "metadata": {},
   "source": [
    "-----\n",
    "#### Toronto Neighbourhoods - postcodes and geocodes\n",
    "I got the `Toronto_Neighbourhoods.csv` from the first notebook [Toronto_Neighborhoods.ipynb](https://github.com/rareal/Coursera_Capstone/blob/master/Toronto_Neighborhoods.ipynb)   \n",
    "Importing into a pandas DataFrame:"
   ]
  },
  {
   "cell_type": "code",
   "execution_count": 29,
   "metadata": {},
   "outputs": [],
   "source": [
    "Toronto_neigh = pd.read_csv('Toronto_Neighbourhoods.csv',index_col=[0])"
   ]
  },
  {
   "cell_type": "markdown",
   "metadata": {},
   "source": [
    "Now we need to get the geocode for each postcode in the dataframe. First, let's initiate two arrays to store the data, `lat` and `lon`, filled with `'None'`."
   ]
  },
  {
   "cell_type": "code",
   "execution_count": 30,
   "metadata": {},
   "outputs": [],
   "source": [
    "nrow = len(Toronto_neigh.Postcode)\n",
    "lat = pd.Series(['None']*nrow)\n",
    "lon = pd.Series(['None']*nrow)"
   ]
  },
  {
   "cell_type": "markdown",
   "metadata": {},
   "source": [
    "Now we loop the postcodes, get the geocode and store in the `lat` and `lon` variables.  \n",
    "The LocationIQ api has a postcode search method, with coutrycode.  \n",
    "The API limit is 1 request per second, so it's better to include a `sleep` in the loop."
   ]
  },
  {
   "cell_type": "code",
   "execution_count": null,
   "metadata": {},
   "outputs": [],
   "source": [
    "for i in range(nrow):\n",
    "    print('i: ',i)\n",
    "    PC = Toronto_neigh.Postcode[i]\n",
    "    data = {'key': apikey,'postalcode':'{}'.format(PC),'countrycode':'CA','format': 'json'}\n",
    "    try:\n",
    "        response = requests.get(search_url, params=data)\n",
    "        response_json = response.json()\n",
    "        lat[i] = response_json[0]['lat']\n",
    "        lon[i] = response_json[0]['lon']\n",
    "        print('PC: {}, Lat: {}, Lon: {}'.format(PC,lat[i],lon[i]))\n",
    "    except Exception:\n",
    "        continue\n",
    "    time.sleep(1)"
   ]
  },
  {
   "cell_type": "markdown",
   "metadata": {},
   "source": [
    "One postcode could not be found."
   ]
  },
  {
   "cell_type": "code",
   "execution_count": 106,
   "metadata": {},
   "outputs": [
    {
     "data": {
      "text/plain": [
       "True     102\n",
       "False      1\n",
       "dtype: int64"
      ]
     },
     "execution_count": 106,
     "metadata": {},
     "output_type": "execute_result"
    }
   ],
   "source": [
    "pd.Series(lat!='None').value_counts()"
   ]
  },
  {
   "cell_type": "code",
   "execution_count": 54,
   "metadata": {},
   "outputs": [
    {
     "data": {
      "text/html": [
       "<div>\n",
       "<style scoped>\n",
       "    .dataframe tbody tr th:only-of-type {\n",
       "        vertical-align: middle;\n",
       "    }\n",
       "\n",
       "    .dataframe tbody tr th {\n",
       "        vertical-align: top;\n",
       "    }\n",
       "\n",
       "    .dataframe thead th {\n",
       "        text-align: right;\n",
       "    }\n",
       "</style>\n",
       "<table border=\"1\" class=\"dataframe\">\n",
       "  <thead>\n",
       "    <tr style=\"text-align: right;\">\n",
       "      <th></th>\n",
       "      <th>Postcode</th>\n",
       "      <th>Borough</th>\n",
       "      <th>Neighbourhood</th>\n",
       "    </tr>\n",
       "  </thead>\n",
       "  <tbody>\n",
       "    <tr>\n",
       "      <th>76</th>\n",
       "      <td>M7R</td>\n",
       "      <td>Mississauga</td>\n",
       "      <td>Canada Post Gateway Processing Centre</td>\n",
       "    </tr>\n",
       "  </tbody>\n",
       "</table>\n",
       "</div>"
      ],
      "text/plain": [
       "   Postcode      Borough                          Neighbourhood\n",
       "76      M7R  Mississauga  Canada Post Gateway Processing Centre"
      ]
     },
     "execution_count": 54,
     "metadata": {},
     "output_type": "execute_result"
    }
   ],
   "source": [
    "Toronto_neigh[lat=='None']"
   ]
  },
  {
   "cell_type": "code",
   "execution_count": 58,
   "metadata": {},
   "outputs": [
    {
     "data": {
      "text/plain": [
       "{'error': 'Unable to geocode'}"
      ]
     },
     "execution_count": 58,
     "metadata": {},
     "output_type": "execute_result"
    }
   ],
   "source": [
    "data = {'key': apikey,'postalcode':'{}'.format(Toronto_neigh.Postcode[76]),'countrycode':'CA','format': 'json'}\n",
    "response = requests.get(search_url, params=data)\n",
    "response.json()"
   ]
  },
  {
   "cell_type": "markdown",
   "metadata": {},
   "source": [
    "Trying the search query method, using the Borough and Neighbourhood names:"
   ]
  },
  {
   "cell_type": "code",
   "execution_count": 61,
   "metadata": {},
   "outputs": [],
   "source": [
    "data = {'key': apikey,'q':', '.join(Toronto_neigh.iloc[76,1:3].values),'format': 'json'}\n",
    "response = requests.get(search_url, params=data)\n",
    "res = response.json()"
   ]
  },
  {
   "cell_type": "code",
   "execution_count": 82,
   "metadata": {},
   "outputs": [
    {
     "name": "stdout",
     "output_type": "stream",
     "text": [
      "matches: 10\n",
      "lat: 43.596832, lon: -79.623997, no postcode\n",
      "lat: 43.570452, lon: -79.626636, no postcode\n",
      "lat: 43.569545, lon: -79.59661, no postcode\n",
      "lat: 43.716528, lon: -79.637611, no postcode\n",
      "lat: 43.66198, lon: -79.665466, no postcode\n",
      "lat: 43.644478, lon: -79.708221, no postcode\n",
      "lat: 43.639839, lon: -79.713425, no postcode\n",
      "lat: 43.625576, lon: -79.676659, no postcode\n",
      "lat: 43.649548, lon: -79.666832, no postcode\n",
      "lat: 43.654701, lon: -79.665771, no postcode\n"
     ]
    }
   ],
   "source": [
    "print('matches:',len(res))\n",
    "for item in res:\n",
    "    try:\n",
    "        print('lat: {}, lon: {}, postcode: {}'.format(item['lat'],item['lon'],item['postcode']))\n",
    "    except Exception:\n",
    "        print('lat: {}, lon: {}, no postcode'.format(item['lat'],item['lon']))"
   ]
  },
  {
   "cell_type": "code",
   "execution_count": 94,
   "metadata": {},
   "outputs": [
    {
     "name": "stdout",
     "output_type": "stream",
     "text": [
      "lat:  43.63294789999999\n",
      "lon:  -79.6581228\n"
     ]
    }
   ],
   "source": [
    "print('lat: ',pd.Series([x['lat'] for x in res]).astype(float).mean())\n",
    "print('lon: ',pd.Series([x['lon'] for x in res]).astype(float).mean())"
   ]
  },
  {
   "cell_type": "code",
   "execution_count": 59,
   "metadata": {},
   "outputs": [
    {
     "data": {
      "text/plain": [
       "{'place_id': '85793346',\n",
       " 'licence': '© LocationIQ.com CC BY 4.0, Data © OpenStreetMap contributors, ODbL 1.0',\n",
       " 'osm_type': 'way',\n",
       " 'osm_id': '34551703',\n",
       " 'lat': '43.63645615',\n",
       " 'lon': '-79.6149124359677',\n",
       " 'display_name': 'Canada Post Gateway sorting station, South Gateway Road, Rathwood, Mississauga, Peel Region, Ontario, L4W 5G6, Canada',\n",
       " 'address': {'building': 'Canada Post Gateway sorting station',\n",
       "  'road': 'South Gateway Road',\n",
       "  'neighbourhood': 'Rathwood',\n",
       "  'city': 'Mississauga',\n",
       "  'county': 'Peel Region',\n",
       "  'state': 'Ontario',\n",
       "  'postcode': 'L4W 5G6',\n",
       "  'country': 'Canada',\n",
       "  'country_code': 'ca'},\n",
       " 'boundingbox': ['43.6348319', '43.637991', '-79.6186161', '-79.6119281']}"
      ]
     },
     "execution_count": 59,
     "metadata": {},
     "output_type": "execute_result"
    }
   ],
   "source": [
    "# Reverse Geocoding method url\n",
    "reverse_url = \"https://us1.locationiq.com/v1/reverse.php\"\n",
    "# M7R\n",
    "latt=43.6369656\n",
    "long=-79.615819\n",
    "\n",
    "data = {'key': apikey,'lat': latt,'lon': long,'format': 'json'}\n",
    "response = requests.get(reverse_url, params=data)\n",
    "response.json()"
   ]
  },
  {
   "cell_type": "code",
   "execution_count": null,
   "metadata": {},
   "outputs": [],
   "source": [
    "\n"
   ]
  }
 ],
 "metadata": {
  "kernelspec": {
   "display_name": "Py3.6_Pandas",
   "language": "python",
   "name": "pandas"
  },
  "language_info": {
   "codemirror_mode": {
    "name": "ipython",
    "version": 3
   },
   "file_extension": ".py",
   "mimetype": "text/x-python",
   "name": "python",
   "nbconvert_exporter": "python",
   "pygments_lexer": "ipython3",
   "version": "3.6.7"
  }
 },
 "nbformat": 4,
 "nbformat_minor": 2
}
