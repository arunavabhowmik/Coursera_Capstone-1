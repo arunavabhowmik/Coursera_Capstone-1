{
 "cells": [
  {
   "cell_type": "markdown",
   "metadata": {},
   "source": [
    "# To which city do I go? A Data Science approach    \n",
    "\n",
    "This is part of the Course [<u><b>Applied Data Science Capstone</b></u>](https://www.coursera.org/learn/applied-data-science-capstone/) on Coursera, to complete the Specialization [<u><b>IBM Data Science Professional Certificate</b></u>](https://www.coursera.org/specializations/ibm-data-science-professional-certificate)\n",
    "\n",
    "## Introduction/Business Problem\n",
    "\n",
    "People move due to various reasons, but job opportunities and quality of life are top priorities. But if you have jobs opportunities in different cities, how do you decide which one is best for you? If you are a company trying to recruit people, how do you decide which job market to target to maximize the likelihood of acquiring and retaining talent?\n",
    "\n",
    "I propose to cluster European cities based on job opportunities and quality of life, so that individuals and companies can compare with their current location. For individuals, it would be interesting to balance job opportunities with quality of life, giving different weights to each depending on their specific condition. For instance, a senior Data Scientist may decide to move to another city but give more weight to a similar weather or city structure than the difficulty of the job market, as they compete well, but a starting practitioner may give more weight to cities with more opportunities. For companies, it would be interesting to compare the job marketing where they are with others and see where they would be more successful at recruiting/retaining talent. \n",
    "\n",
    "\n",
    "## Data\n",
    "\n",
    "The following data will be used to compare cities:\n",
    "- **Temperature** - monthly temperature levels of European Cities, from the following table: https://en.wikipedia.org/wiki/List_of_European_cities_by_temperature \n",
    "- **Job oportunity** - number of Data Scientist job postings in CareerJet and LinkedIn, for each city in the temperature table, averaged between the two job sites and normalized by the total. Cities with zero job postings will be excluded at this step.\n",
    "- **City structure** - \n",
    "Frequency of Foursquare venue category, for each city, will be collected using the Foursquare api (version 20180605), searching by the cities geocodes. The geocodes for the cities with job opportunities will be collected using the Location IQ api (version 1).\n",
    "\n",
    "The city data will be compared using weighted Minkowski distance and hierarchical clustering.\n"
   ]
  }
 ],
 "metadata": {
  "kernelspec": {
   "display_name": "Py3.6_Pandas",
   "language": "python",
   "name": "pandas"
  },
  "language_info": {
   "codemirror_mode": {
    "name": "ipython",
    "version": 3
   },
   "file_extension": ".py",
   "mimetype": "text/x-python",
   "name": "python",
   "nbconvert_exporter": "python",
   "pygments_lexer": "ipython3",
   "version": "3.6.7"
  }
 },
 "nbformat": 4,
 "nbformat_minor": 2
}
